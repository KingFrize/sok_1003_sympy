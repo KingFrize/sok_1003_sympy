{
 "cells": [
  {
   "cell_type": "code",
   "execution_count": 70,
   "id": "198fc0c7-995a-43be-896e-edca354a0416",
   "metadata": {},
   "outputs": [
    {
     "data": {
      "text/plain": [
       "{x: -1, y: 2}"
      ]
     },
     "execution_count": 70,
     "metadata": {},
     "output_type": "execute_result"
    }
   ],
   "source": [
    "import sympy as sp\n",
    "from sympy.solvers import solve\n",
    "x,y=sp.symbols('x y')\n",
    "\n",
    "import pandas as pd\n",
    "import numpy as np\n",
    "import matplotlib.pyplot as plt\n",
    "\n",
    "##Modul 15, likningssett (innsettingsmetoden)\n",
    "#Oppgave 1\n",
    "# 1A\n",
    "eq1 = sp.Eq(2*x + 4*y, 6)\n",
    "eq1\n",
    "\n",
    "\n",
    "eq2 = sp.Eq(-2*x + y, 4)\n",
    "eq2\n",
    "\n",
    "sol=solve([eq1,eq2], [x,y])\n",
    "sol\n",
    "\n"
   ]
  },
  {
   "cell_type": "code",
   "execution_count": 71,
   "id": "960542bb-3668-4008-86ab-a28d7c1f2002",
   "metadata": {},
   "outputs": [
    {
     "data": {
      "text/plain": [
       "[(-1, -1), (2, 5)]"
      ]
     },
     "execution_count": 71,
     "metadata": {},
     "output_type": "execute_result"
    }
   ],
   "source": [
    "# Oppgave 1\n",
    "# 1B\n",
    "eq3 = sp.Eq(2*x - y, -1)\n",
    "eq3\n",
    "\n",
    "\n",
    "eq4 = sp.Eq(x**2 + x - y, 1)\n",
    "eq4\n",
    "\n",
    "sol=solve([eq3,eq4], [x,y])\n",
    "sol"
   ]
  },
  {
   "cell_type": "code",
   "execution_count": 72,
   "id": "c1a98b9b-5987-4f97-9592-9615fb00653b",
   "metadata": {},
   "outputs": [
    {
     "data": {
      "text/plain": [
       "{x: 4, y: 0}"
      ]
     },
     "execution_count": 72,
     "metadata": {},
     "output_type": "execute_result"
    }
   ],
   "source": [
    "#Oppgave 2 \n",
    "# 1A\n",
    "\n",
    "eq5 = sp.Eq(3*x - 12 , -6*y)\n",
    "eq5\n",
    "\n",
    "\n",
    "eq6 = sp.Eq(4*x - 8*y , 16)\n",
    "eq6\n",
    "\n",
    "sol=solve([eq5, eq6], [x,y])\n",
    "sol"
   ]
  },
  {
   "cell_type": "code",
   "execution_count": 73,
   "id": "1dcd4372-0b89-4afb-bdd2-e824bea48f05",
   "metadata": {},
   "outputs": [
    {
     "data": {
      "text/plain": [
       "[(-15/2, 31/4), (2, 3)]"
      ]
     },
     "execution_count": 73,
     "metadata": {},
     "output_type": "execute_result"
    }
   ],
   "source": [
    "#Oppgave 2\n",
    "# 1B\n",
    "eq7 = sp.Eq(x**2 + 4*x - 3 , 3*y)\n",
    "eq7\n",
    "\n",
    "\n",
    "eq8 = sp.Eq(2*y , 8 - x)\n",
    "eq8\n",
    "\n",
    "sol=solve([eq7,eq8], [x,y])\n",
    "sol"
   ]
  },
  {
   "cell_type": "code",
   "execution_count": 74,
   "id": "1532c096-069f-42a5-bcba-3d3d2dbb21f6",
   "metadata": {},
   "outputs": [
    {
     "data": {
      "text/plain": [
       "{x: 2, y: 2}"
      ]
     },
     "execution_count": 74,
     "metadata": {},
     "output_type": "execute_result"
    }
   ],
   "source": [
    "##Modul 16\n",
    "#Oppgave 1A\n",
    "eq9 = sp.Eq(4*x + 2*y, 12)\n",
    "eq9\n",
    "\n",
    "\n",
    "eq10 = sp.Eq(6*x - 2*y, 8)\n",
    "eq10\n",
    "\n",
    "sol=solve([eq9,eq10], [x,y])\n",
    "sol"
   ]
  },
  {
   "cell_type": "code",
   "execution_count": 75,
   "id": "4000f4a2-5d98-4de1-8d57-1bc9a81d7c63",
   "metadata": {},
   "outputs": [
    {
     "data": {
      "text/plain": [
       "[(0, -5), (12, 1)]"
      ]
     },
     "execution_count": 75,
     "metadata": {},
     "output_type": "execute_result"
    }
   ],
   "source": [
    "## Modul 16\n",
    "# Oppgave 1B\n",
    "eq11 = sp.Eq(2*x + y**2 , 25)\n",
    "eq11\n",
    "\n",
    "\n",
    "eq12= sp.Eq(x - 2*y, 10)\n",
    "eq12\n",
    "\n",
    "sol=solve([eq11,eq12], [x,y])\n",
    "sol"
   ]
  },
  {
   "cell_type": "code",
   "execution_count": 76,
   "id": "726aa2e6-f24b-462b-b5a2-2a5cda844887",
   "metadata": {},
   "outputs": [
    {
     "data": {
      "text/plain": [
       "{x: 4, y: 2}"
      ]
     },
     "execution_count": 76,
     "metadata": {},
     "output_type": "execute_result"
    }
   ],
   "source": [
    "#Oppgave 2A\n",
    "\n",
    "eq13 = sp.Eq(4*x - 4*y , 8)\n",
    "eq13\n",
    "\n",
    "\n",
    "eq14 = sp.Eq(9*x - 5*y , 26)\n",
    "eq14\n",
    "\n",
    "sol=solve([eq13,eq14], [x,y])\n",
    "sol"
   ]
  },
  {
   "cell_type": "code",
   "execution_count": 77,
   "id": "3b735bb6-1a8a-4245-87cf-f7b8cd37bf28",
   "metadata": {},
   "outputs": [
    {
     "data": {
      "text/plain": [
       "[(-9, -2*sqrt(3)), (-9, 2*sqrt(3)), (7, -2), (7, 2)]"
      ]
     },
     "execution_count": 77,
     "metadata": {},
     "output_type": "execute_result"
    }
   ],
   "source": [
    "#Oppgave 2B\n",
    "eq15 = sp.Eq(x + 2*y**2 , 15)\n",
    "eq15\n",
    "\n",
    "\n",
    "eq16 = sp.Eq(x**2 - 4*y**2 , 33)\n",
    "eq16\n",
    "\n",
    "sol=solve([eq15,eq16], [x,y])\n",
    "sol"
   ]
  },
  {
   "cell_type": "code",
   "execution_count": 78,
   "id": "5ddd3017-a969-45f5-bd5b-34c9ce4fffa7",
   "metadata": {},
   "outputs": [
    {
     "data": {
      "text/plain": [
       "[(0, -4), (0, 4), (15, -1), (15, 1)]"
      ]
     },
     "execution_count": 78,
     "metadata": {},
     "output_type": "execute_result"
    }
   ],
   "source": [
    "## Modul 17\n",
    "# Oppgave 1A\n",
    "eq17 = sp.Eq(x*y**2 - x , 0)\n",
    "eq17\n",
    "\n",
    "\n",
    "eq18 = sp.Eq(x + y**2, 16)\n",
    "eq18\n",
    "\n",
    "sol=solve([eq17,eq18], [x,y])\n",
    "sol"
   ]
  },
  {
   "cell_type": "code",
   "execution_count": 79,
   "id": "d015f95e-bb1e-4365-859e-1a1a2765e25b",
   "metadata": {},
   "outputs": [
    {
     "data": {
      "text/plain": [
       "[(-10, 0), (-6, -8), (-6, 8), (6, -8), (6, 8), (10, 0)]"
      ]
     },
     "execution_count": 79,
     "metadata": {},
     "output_type": "execute_result"
    }
   ],
   "source": [
    "# Oppgave 1B\n",
    "eq19 = sp.Eq(x**2 + y**2 , 100)\n",
    "eq19\n",
    "\n",
    "\n",
    "eq20 = sp.Eq(x**2*y - 36*y , 0)\n",
    "eq20\n",
    "\n",
    "sol=solve([eq19,eq20], [x,y])\n",
    "sol"
   ]
  },
  {
   "cell_type": "code",
   "execution_count": 80,
   "id": "52185a5d-dc7f-45fe-a5cc-2b0d75fe6457",
   "metadata": {},
   "outputs": [
    {
     "data": {
      "text/plain": [
       "[(-3, -7), (-3, 7), (0, -sqrt(58)), (0, sqrt(58)), (3, -7), (3, 7)]"
      ]
     },
     "execution_count": 80,
     "metadata": {},
     "output_type": "execute_result"
    }
   ],
   "source": [
    "#Oppgave 2B, Modul 17\n",
    "eq21 = sp.Eq(x*y**2 - 49*x , 0)\n",
    "eq21\n",
    "\n",
    "\n",
    "eq22= sp.Eq(x**2 + y**2 , 58)\n",
    "eq22\n",
    "\n",
    "sol=solve([eq21,eq22], [x,y])\n",
    "sol"
   ]
  },
  {
   "cell_type": "code",
   "execution_count": 81,
   "id": "96fadfc7-765a-4324-b481-9158cbf56cd2",
   "metadata": {},
   "outputs": [
    {
     "data": {
      "text/plain": [
       "[(-1.11803398874989, 0.0),\n",
       " (-0.500000000000000, -1.00000000000000),\n",
       " (-0.500000000000000, 1.00000000000000),\n",
       " (1.11803398874989, 0.0)]"
      ]
     },
     "execution_count": 81,
     "metadata": {},
     "output_type": "execute_result"
    }
   ],
   "source": [
    "#Oppgave 2B\n",
    "eq23 = sp.Eq(x**2 + y**2 , 5/4)\n",
    "eq23\n",
    "\n",
    "\n",
    "eq24= sp.Eq(2*x*y + y , 0)\n",
    "eq24\n",
    "\n",
    "sol=solve([eq23,eq24], [x,y])\n",
    "sol"
   ]
  },
  {
   "cell_type": "code",
   "execution_count": 104,
   "id": "6b81f749-fa7f-49ee-b71a-bcce00f47871",
   "metadata": {},
   "outputs": [
    {
     "data": {
      "text/latex": [
       "$\\displaystyle 5 x^{4}$"
      ],
      "text/plain": [
       "5*x**4"
      ]
     },
     "execution_count": 104,
     "metadata": {},
     "output_type": "execute_result"
    }
   ],
   "source": [
    "#Modul 19\n",
    "#Oppagve 1A\n",
    "x = sp.Symbol('x')\n",
    "sp.diff(x**5)"
   ]
  },
  {
   "cell_type": "code",
   "execution_count": 83,
   "id": "b49bd7f3-828c-43e5-9e43-188226755f0e",
   "metadata": {},
   "outputs": [
    {
     "data": {
      "text/latex": [
       "$\\displaystyle 1$"
      ],
      "text/plain": [
       "1"
      ]
     },
     "execution_count": 83,
     "metadata": {},
     "output_type": "execute_result"
    }
   ],
   "source": [
    "#Oppgave 1B\n",
    "x = sp.Symbol('x')\n",
    "sp.diff(x + 12)"
   ]
  },
  {
   "cell_type": "code",
   "execution_count": 84,
   "id": "7d21c7ae-bde6-42cb-8940-c9245f377c7a",
   "metadata": {},
   "outputs": [
    {
     "data": {
      "text/latex": [
       "$\\displaystyle 3 x^{2} + 8 x$"
      ],
      "text/plain": [
       "3*x**2 + 8*x"
      ]
     },
     "execution_count": 84,
     "metadata": {},
     "output_type": "execute_result"
    }
   ],
   "source": [
    "#Oppgave 1C\n",
    "x = sp.Symbol('x')\n",
    "sp.diff(x**3 + 4*x**2)\n"
   ]
  },
  {
   "cell_type": "code",
   "execution_count": 85,
   "id": "9189a8de-2290-4a03-8f4f-e8a21b01b235",
   "metadata": {},
   "outputs": [
    {
     "data": {
      "text/latex": [
       "$\\displaystyle 6 x^{2}$"
      ],
      "text/plain": [
       "6*x**2"
      ]
     },
     "execution_count": 85,
     "metadata": {},
     "output_type": "execute_result"
    }
   ],
   "source": [
    "#Oppgave 1D\n",
    "x = sp.Symbol('x')\n",
    "sp.diff(2*x**3 + 36**(1/2))"
   ]
  },
  {
   "cell_type": "code",
   "execution_count": 86,
   "id": "f37805c9-3deb-469f-9664-88010f092a66",
   "metadata": {},
   "outputs": [
    {
     "data": {
      "text/latex": [
       "$\\displaystyle \\frac{0.5}{x^{0.5}}$"
      ],
      "text/plain": [
       "0.5*x**(-0.5)"
      ]
     },
     "execution_count": 86,
     "metadata": {},
     "output_type": "execute_result"
    }
   ],
   "source": [
    "#Oppgave 1E\n",
    "x = sp.Symbol('x')\n",
    "sp.diff(x**(1/2) + 5**2)"
   ]
  },
  {
   "cell_type": "code",
   "execution_count": 87,
   "id": "1fd51c7e-80ae-4905-904e-cb82fe249d41",
   "metadata": {},
   "outputs": [
    {
     "data": {
      "text/latex": [
       "$\\displaystyle 3 x^{2} - \\frac{1}{x^{2}}$"
      ],
      "text/plain": [
       "3*x**2 - 1/x**2"
      ]
     },
     "execution_count": 87,
     "metadata": {},
     "output_type": "execute_result"
    }
   ],
   "source": [
    "#Oppgave 1F\n",
    "x = sp.Symbol('x')\n",
    "sp.diff(x**3 + 1/x)"
   ]
  },
  {
   "cell_type": "code",
   "execution_count": 88,
   "id": "3b5857c4-2167-44b5-b223-a314318d152a",
   "metadata": {},
   "outputs": [
    {
     "data": {
      "text/latex": [
       "$\\displaystyle 3 x^{2} - 2 x + 0.25$"
      ],
      "text/plain": [
       "3*x**2 - 2*x + 0.25"
      ]
     },
     "execution_count": 88,
     "metadata": {},
     "output_type": "execute_result"
    }
   ],
   "source": [
    "#Oppgave 1G\n",
    "x = sp.Symbol('x')\n",
    "sp.diff(x**3 - x**2 + 1/4*x)"
   ]
  },
  {
   "cell_type": "code",
   "execution_count": 89,
   "id": "8f83c904-5803-416b-9f3d-2a2c3131b89b",
   "metadata": {},
   "outputs": [
    {
     "data": {
      "text/latex": [
       "$\\displaystyle 36 x^{5} - \\frac{1}{x^{2}}$"
      ],
      "text/plain": [
       "36*x**5 - 1/x**2"
      ]
     },
     "execution_count": 89,
     "metadata": {},
     "output_type": "execute_result"
    }
   ],
   "source": [
    "#Oppgave 2A\n",
    "x = sp.Symbol('x')\n",
    "sp.diff(1/x + 6*x**6)\n"
   ]
  },
  {
   "cell_type": "code",
   "execution_count": 90,
   "id": "c031381a-e5e7-4568-ae42-693a2b567b3c",
   "metadata": {},
   "outputs": [
    {
     "data": {
      "text/latex": [
       "$\\displaystyle 1.5 x^{2} - 1$"
      ],
      "text/plain": [
       "1.5*x**2 - 1"
      ]
     },
     "execution_count": 90,
     "metadata": {},
     "output_type": "execute_result"
    }
   ],
   "source": [
    "#Oppgave 2B\n",
    "x = sp.Symbol('x')\n",
    "sp.diff(-x + 1/2*x**3)"
   ]
  },
  {
   "cell_type": "code",
   "execution_count": 91,
   "id": "ab34edea-5563-44ca-af7f-04901bec8fe7",
   "metadata": {},
   "outputs": [
    {
     "data": {
      "text/latex": [
       "$\\displaystyle x^{2} + x \\left(2 x + 2\\right) + 2 x - 3$"
      ],
      "text/plain": [
       "x**2 + x*(2*x + 2) + 2*x - 3"
      ]
     },
     "execution_count": 91,
     "metadata": {},
     "output_type": "execute_result"
    }
   ],
   "source": [
    "#Oppgave 2C\n",
    "x = sp.Symbol('x')\n",
    "sp.diff(x*(x**2 + 2*x - 3))"
   ]
  },
  {
   "cell_type": "code",
   "execution_count": 92,
   "id": "2e9fe311-dda8-488d-a2dc-1ab73196f946",
   "metadata": {},
   "outputs": [
    {
     "data": {
      "text/latex": [
       "$\\displaystyle 9 x^{8}$"
      ],
      "text/plain": [
       "9*x**8"
      ]
     },
     "execution_count": 92,
     "metadata": {},
     "output_type": "execute_result"
    }
   ],
   "source": [
    "#Modul 20\n",
    "#Oppgave 1E\n",
    "\n",
    "x = sp.Symbol('x')\n",
    "sp.diff(x**4 * x**5)"
   ]
  },
  {
   "cell_type": "code",
   "execution_count": 93,
   "id": "1722dfbc-85d0-4252-843d-2769112061ad",
   "metadata": {},
   "outputs": [
    {
     "data": {
      "text/latex": [
       "$\\displaystyle \\frac{3 \\sqrt{x}}{2}$"
      ],
      "text/plain": [
       "3*sqrt(x)/2"
      ]
     },
     "execution_count": 93,
     "metadata": {},
     "output_type": "execute_result"
    }
   ],
   "source": [
    "#Oppgave 1F\n",
    "x = sp.Symbol('x')\n",
    "sp.diff(x * sp.sqrt(x))"
   ]
  },
  {
   "cell_type": "code",
   "execution_count": 94,
   "id": "8d31c9ab-9db6-4e62-8835-4d5ccb843082",
   "metadata": {},
   "outputs": [
    {
     "data": {
      "text/latex": [
       "$\\displaystyle \\frac{2}{x^{2}} - \\frac{3 \\left(x^{2} - 2\\right)}{x^{4}}$"
      ],
      "text/plain": [
       "2/x**2 - 3*(x**2 - 2)/x**4"
      ]
     },
     "execution_count": 94,
     "metadata": {},
     "output_type": "execute_result"
    }
   ],
   "source": [
    "#Oppgave 1H\n",
    "x = sp.Symbol('x')\n",
    "sp.diff((x**2 - 2)/x**3)"
   ]
  },
  {
   "cell_type": "code",
   "execution_count": 95,
   "id": "fcab8dc8-ce2e-4341-a9d7-20d4762e08a0",
   "metadata": {},
   "outputs": [
    {
     "data": {
      "text/latex": [
       "$\\displaystyle \\frac{13 x^{\\frac{11}{2}}}{2}$"
      ],
      "text/plain": [
       "13*x**(11/2)/2"
      ]
     },
     "execution_count": 95,
     "metadata": {},
     "output_type": "execute_result"
    }
   ],
   "source": [
    "#Oppgave 1I\n",
    "x = sp.Symbol('x')\n",
    "sp.diff(sp.sqrt(x)*x**6)"
   ]
  },
  {
   "cell_type": "code",
   "execution_count": 96,
   "id": "ef499497-ce16-48f0-a74d-276a3a939738",
   "metadata": {},
   "outputs": [
    {
     "data": {
      "text/latex": [
       "$\\displaystyle 3 x^{2} + 1$"
      ],
      "text/plain": [
       "3*x**2 + 1"
      ]
     },
     "execution_count": 96,
     "metadata": {},
     "output_type": "execute_result"
    }
   ],
   "source": [
    "#Oppgave1 J\n",
    "x = sp.Symbol('x')\n",
    "sp.diff(x*(x**2 + 1))"
   ]
  },
  {
   "cell_type": "code",
   "execution_count": 97,
   "id": "87903cfb-e7a6-410f-81c5-74bb1c176af8",
   "metadata": {},
   "outputs": [
    {
     "data": {
      "text/latex": [
       "$\\displaystyle - \\frac{3 x^{2} \\left(x^{2} + 4\\right)}{\\left(x^{3} - 1\\right)^{2}} + \\frac{2 x}{x^{3} - 1}$"
      ],
      "text/plain": [
       "-3*x**2*(x**2 + 4)/(x**3 - 1)**2 + 2*x/(x**3 - 1)"
      ]
     },
     "execution_count": 97,
     "metadata": {},
     "output_type": "execute_result"
    }
   ],
   "source": [
    "#Oppgave1 K\n",
    "x = sp.Symbol('x')\n",
    "sp.diff((x**2 + 4)/(x**3 - 1))"
   ]
  },
  {
   "cell_type": "code",
   "execution_count": 98,
   "id": "519153eb-b3c2-4441-9390-a2d394eae026",
   "metadata": {},
   "outputs": [
    {
     "data": {
      "text/latex": [
       "$\\displaystyle \\frac{x^{2} \\left(- 2 x - 2\\right)}{\\left(x^{2} + 2 x\\right)^{2}} + \\frac{2 x}{x^{2} + 2 x}$"
      ],
      "text/plain": [
       "x**2*(-2*x - 2)/(x**2 + 2*x)**2 + 2*x/(x**2 + 2*x)"
      ]
     },
     "execution_count": 98,
     "metadata": {},
     "output_type": "execute_result"
    }
   ],
   "source": [
    "#Oppgave 1 L\n",
    "x = sp.Symbol('x')\n",
    "sp.diff(x**2/(x**2 + 2*x))"
   ]
  },
  {
   "cell_type": "code",
   "execution_count": 99,
   "id": "36dbafe7-26a5-4948-83ef-f1b512045005",
   "metadata": {},
   "outputs": [
    {
     "data": {
      "text/latex": [
       "$\\displaystyle \\frac{2 x + 4}{x - 2} - \\frac{x^{2} + 4 x + 2}{\\left(x - 2\\right)^{2}}$"
      ],
      "text/plain": [
       "(2*x + 4)/(x - 2) - (x**2 + 4*x + 2)/(x - 2)**2"
      ]
     },
     "execution_count": 99,
     "metadata": {},
     "output_type": "execute_result"
    }
   ],
   "source": [
    "#Oppgave 1 M\n",
    "x = sp.Symbol('x')\n",
    "sp.diff((x**2 + 4*x + 2)/(x - 2))"
   ]
  },
  {
   "cell_type": "code",
   "execution_count": 100,
   "id": "e2766853-bf67-4c94-b7dd-5fb32591ce38",
   "metadata": {},
   "outputs": [
    {
     "data": {
      "text/latex": [
       "$\\displaystyle - \\frac{2 x \\left(x^{3} - 2 x\\right)}{\\left(x^{2} - 1\\right)^{2}} + \\frac{3 x^{2} - 2}{x^{2} - 1}$"
      ],
      "text/plain": [
       "-2*x*(x**3 - 2*x)/(x**2 - 1)**2 + (3*x**2 - 2)/(x**2 - 1)"
      ]
     },
     "execution_count": 100,
     "metadata": {},
     "output_type": "execute_result"
    }
   ],
   "source": [
    "#Oppgave 2A\n",
    "\n",
    "x = sp.Symbol('x')\n",
    "sp.diff((x**3 - 2*x)/(x**2 - 1))\n"
   ]
  },
  {
   "cell_type": "code",
   "execution_count": 101,
   "id": "4c16e8f9-8b91-4a85-a912-afcdb76c864b",
   "metadata": {},
   "outputs": [
    {
     "data": {
      "text/latex": [
       "$\\displaystyle 2 x \\left(x^{2} - 1\\right) + 2 x \\left(x^{2} + 1\\right)$"
      ],
      "text/plain": [
       "2*x*(x**2 - 1) + 2*x*(x**2 + 1)"
      ]
     },
     "execution_count": 101,
     "metadata": {},
     "output_type": "execute_result"
    }
   ],
   "source": [
    "#Oppgave 2B\n",
    "x = sp.Symbol('x')\n",
    "sp.diff((x**2 + 1)*(x**2 - 1))"
   ]
  },
  {
   "cell_type": "code",
   "execution_count": 102,
   "id": "85a829ca-6d20-4d10-9e4a-94bde6a422ac",
   "metadata": {},
   "outputs": [
    {
     "data": {
      "text/latex": [
       "$\\displaystyle - \\frac{3 x^{2} \\left(3 x - 4\\right)}{\\left(x^{3} + 7\\right)^{2}} + \\frac{3}{x^{3} + 7}$"
      ],
      "text/plain": [
       "-3*x**2*(3*x - 4)/(x**3 + 7)**2 + 3/(x**3 + 7)"
      ]
     },
     "execution_count": 102,
     "metadata": {},
     "output_type": "execute_result"
    }
   ],
   "source": [
    "#Oppgave 2C\n",
    "x = sp.Symbol('x')\n",
    "sp.diff((3*x - 4)/(x**3 + 7))"
   ]
  },
  {
   "cell_type": "code",
   "execution_count": 103,
   "id": "c4e2ca56-9f5c-4bfd-9541-6a3eddea3754",
   "metadata": {},
   "outputs": [
    {
     "data": {
      "text/latex": [
       "$\\displaystyle \\left(15 x^{2} + 30\\right) \\left(x^{3} + 6 x\\right)^{4}$"
      ],
      "text/plain": [
       "(15*x**2 + 30)*(x**3 + 6*x)**4"
      ]
     },
     "execution_count": 103,
     "metadata": {},
     "output_type": "execute_result"
    }
   ],
   "source": [
    "#Modul 21\n",
    "#Oppgave 1A\n",
    "x = sp.Symbol('x')\n",
    "sp.diff((x**3 + 6*x)**5)"
   ]
  },
  {
   "cell_type": "code",
   "execution_count": 105,
   "id": "84696a35-38f2-4145-854d-305b7235f15d",
   "metadata": {},
   "outputs": [
    {
     "data": {
      "text/latex": [
       "$\\displaystyle \\frac{2 x}{\\sqrt{2 x^{2} + 5}}$"
      ],
      "text/plain": [
       "2*x/sqrt(2*x**2 + 5)"
      ]
     },
     "execution_count": 105,
     "metadata": {},
     "output_type": "execute_result"
    }
   ],
   "source": [
    "#Oppgave 1B\n",
    "x = sp.Symbol('x')\n",
    "sp.diff(sp.sqrt(2*x**2 + 5))"
   ]
  },
  {
   "cell_type": "code",
   "execution_count": 108,
   "id": "d3dbd3d2-8f51-40c4-abd4-2849f96cfd05",
   "metadata": {},
   "outputs": [
    {
     "data": {
      "text/latex": [
       "$\\displaystyle - \\frac{128 x^{5}}{\\left(x^{2} + 3\\right)^{5}} + \\frac{64 x^{3}}{\\left(x^{2} + 3\\right)^{4}}$"
      ],
      "text/plain": [
       "-128*x**5/(x**2 + 3)**5 + 64*x**3/(x**2 + 3)**4"
      ]
     },
     "execution_count": 108,
     "metadata": {},
     "output_type": "execute_result"
    }
   ],
   "source": [
    "#Oppgave 1C\n",
    "x = sp.Symbol('x')\n",
    "sp.diff((2*x/(x**2+3))**4)"
   ]
  },
  {
   "cell_type": "code",
   "execution_count": 109,
   "id": "5c1b23f0-2266-47f5-96ff-8445511da435",
   "metadata": {},
   "outputs": [
    {
     "data": {
      "text/latex": [
       "$\\displaystyle 12 x^{3} \\left(2 x^{4} + 9\\right)^{2}$"
      ],
      "text/plain": [
       "12*x**3*(2*x**4 + 9)**2"
      ]
     },
     "execution_count": 109,
     "metadata": {},
     "output_type": "execute_result"
    }
   ],
   "source": [
    "#Oppgave 1D\n",
    "x = sp.Symbol('x')\n",
    "sp.diff((2*x**4 + 9)**3/2)"
   ]
  },
  {
   "cell_type": "code",
   "execution_count": 110,
   "id": "821b9daf-b025-4878-be64-78eb88463812",
   "metadata": {},
   "outputs": [
    {
     "data": {
      "text/latex": [
       "$\\displaystyle - \\frac{x}{\\left(x^{2} + 1\\right)^{\\frac{3}{2}}}$"
      ],
      "text/plain": [
       "-x/(x**2 + 1)**(3/2)"
      ]
     },
     "execution_count": 110,
     "metadata": {},
     "output_type": "execute_result"
    }
   ],
   "source": [
    "#Oppgave 1E\n",
    "x = sp.Symbol('x')\n",
    "sp.diff(1/(sp.sqrt(1 + x**2)))"
   ]
  },
  {
   "cell_type": "code",
   "execution_count": 111,
   "id": "3bb175c0-a5fa-4769-b976-44e2f4ff4656",
   "metadata": {},
   "outputs": [
    {
     "data": {
      "text/latex": [
       "$\\displaystyle x^{2} \\left(6 x + 6\\right) \\left(x^{2} + 2 x\\right)^{2} + 2 x \\left(x^{2} + 2 x\\right)^{3}$"
      ],
      "text/plain": [
       "x**2*(6*x + 6)*(x**2 + 2*x)**2 + 2*x*(x**2 + 2*x)**3"
      ]
     },
     "execution_count": 111,
     "metadata": {},
     "output_type": "execute_result"
    }
   ],
   "source": [
    "#Oppgave 1F\n",
    "x = sp.Symbol('x')\n",
    "sp.diff(x**2 *(x**2 + 2*x)**3)"
   ]
  },
  {
   "cell_type": "code",
   "execution_count": 112,
   "id": "8f336138-ea80-40eb-b30f-03394317bcc1",
   "metadata": {},
   "outputs": [
    {
     "data": {
      "text/latex": [
       "$\\displaystyle \\frac{x^{2} \\left(x - 1\\right)}{\\sqrt{x^{2} - 2 x}} + 2 x \\sqrt{x^{2} - 2 x}$"
      ],
      "text/plain": [
       "x**2*(x - 1)/sqrt(x**2 - 2*x) + 2*x*sqrt(x**2 - 2*x)"
      ]
     },
     "execution_count": 112,
     "metadata": {},
     "output_type": "execute_result"
    }
   ],
   "source": [
    "#Oppgave 1G\n",
    "x = sp.Symbol('x')\n",
    "sp.diff(x**2 *(sp.sqrt(x**2 - 2*x)))"
   ]
  },
  {
   "cell_type": "code",
   "execution_count": 113,
   "id": "b82d67a7-966c-473a-abe8-b253cc8c1d72",
   "metadata": {},
   "outputs": [
    {
     "data": {
      "text/latex": [
       "$\\displaystyle \\frac{x^{2} \\left(- 6 x - 3\\right)}{\\left(x^{2} + x\\right)^{4}} + \\frac{2 x}{\\left(x^{2} + x\\right)^{3}}$"
      ],
      "text/plain": [
       "x**2*(-6*x - 3)/(x**2 + x)**4 + 2*x/(x**2 + x)**3"
      ]
     },
     "execution_count": 113,
     "metadata": {},
     "output_type": "execute_result"
    }
   ],
   "source": [
    "#Oppgave 1H\n",
    "x = sp.Symbol('x')\n",
    "sp.diff(x**2/(x**2 + x)**3)"
   ]
  },
  {
   "cell_type": "code",
   "execution_count": 115,
   "id": "19451858-23c0-48f5-ba19-2c74ae0ddfe7",
   "metadata": {},
   "outputs": [
    {
     "data": {
      "text/latex": [
       "$\\displaystyle 9 x^{2} \\left(x^{2} + 1\\right)^{2} \\left(x^{3} + 1\\right)^{2} + 4 x \\left(x^{2} + 1\\right) \\left(x^{3} + 1\\right)^{3}$"
      ],
      "text/plain": [
       "9*x**2*(x**2 + 1)**2*(x**3 + 1)**2 + 4*x*(x**2 + 1)*(x**3 + 1)**3"
      ]
     },
     "execution_count": 115,
     "metadata": {},
     "output_type": "execute_result"
    }
   ],
   "source": [
    "#Oppgave 1 I\n",
    "x = sp.Symbol('x')\n",
    "sp.diff((x**2 + 1)**2 * (x**3 + 1)**3)"
   ]
  },
  {
   "cell_type": "code",
   "execution_count": 117,
   "id": "668d8b75-aef7-474e-a054-ecfdfd2ad1d3",
   "metadata": {},
   "outputs": [
    {
     "data": {
      "text/latex": [
       "$\\displaystyle \\left(12 x + 4\\right) \\left(3 x^{2} + 2 x\\right)$"
      ],
      "text/plain": [
       "(12*x + 4)*(3*x**2 + 2*x)"
      ]
     },
     "execution_count": 117,
     "metadata": {},
     "output_type": "execute_result"
    }
   ],
   "source": [
    "#Oppgave 2A\n",
    "x = sp.Symbol('x')\n",
    "sp.diff(sp.sqrt(3*x**2 + 2*x)**4)"
   ]
  },
  {
   "cell_type": "code",
   "execution_count": 118,
   "id": "73856c53-3794-419e-9a19-4d25053d9ba7",
   "metadata": {},
   "outputs": [
    {
     "data": {
      "text/latex": [
       "$\\displaystyle 15 x^{2} \\left(x^{2} + 3\\right)^{4} \\left(x^{3} + 3\\right)^{4} + 8 x \\left(x^{2} + 3\\right)^{3} \\left(x^{3} + 3\\right)^{5}$"
      ],
      "text/plain": [
       "15*x**2*(x**2 + 3)**4*(x**3 + 3)**4 + 8*x*(x**2 + 3)**3*(x**3 + 3)**5"
      ]
     },
     "execution_count": 118,
     "metadata": {},
     "output_type": "execute_result"
    }
   ],
   "source": [
    "#Oppgave 2B\n",
    "x = sp.Symbol('x')\n",
    "sp.diff((x**3+3)**5 * (x**2 + 3)**4)"
   ]
  },
  {
   "cell_type": "code",
   "execution_count": 121,
   "id": "cb8de921-1847-4a4b-92a5-36b546dfd860",
   "metadata": {},
   "outputs": [
    {
     "data": {
      "text/latex": [
       "$\\displaystyle \\frac{x^{3}}{\\sqrt{x^{2} + 1}} + 2 x \\sqrt{x^{2} + 1}$"
      ],
      "text/plain": [
       "x**3/sqrt(x**2 + 1) + 2*x*sqrt(x**2 + 1)"
      ]
     },
     "execution_count": 121,
     "metadata": {},
     "output_type": "execute_result"
    }
   ],
   "source": [
    "#Oppgave 2C\n",
    "x = sp.Symbol('x')\n",
    "sp.diff(sp.sqrt(x**2 + 1 )*( x**2))"
   ]
  },
  {
   "cell_type": "code",
   "execution_count": 132,
   "id": "5ca0abda-f0b2-43c6-9f10-4305c0398463",
   "metadata": {},
   "outputs": [
    {
     "data": {
      "text/latex": [
       "$\\displaystyle \\frac{\\left(18 x + 6\\right) \\left(3 x^{2} + 2 x\\right)^{2}}{x^{2}} - \\frac{2 \\left(3 x^{2} + 2 x\\right)^{3}}{x^{3}}$"
      ],
      "text/plain": [
       "(18*x + 6)*(3*x**2 + 2*x)**2/x**2 - 2*(3*x**2 + 2*x)**3/x**3"
      ]
     },
     "execution_count": 132,
     "metadata": {},
     "output_type": "execute_result"
    }
   ],
   "source": [
    "#Oppgave 2D\n",
    "x = sp.Symbol('x')\n",
    "sp.diff(((2*x + 3*x**2)**3)/x**2)"
   ]
  },
  {
   "cell_type": "code",
   "execution_count": 123,
   "id": "c7d4a01d-5d40-4e9a-9c3d-fa64dd741440",
   "metadata": {},
   "outputs": [
    {
     "data": {
      "text/latex": [
       "$\\displaystyle \\frac{4 x^{3}}{3 \\left(x^{4} - 5\\right)^{\\frac{2}{3}}}$"
      ],
      "text/plain": [
       "4*x**3/(3*(x**4 - 5)**(2/3))"
      ]
     },
     "execution_count": 123,
     "metadata": {},
     "output_type": "execute_result"
    }
   ],
   "source": [
    "#Oppgave 2E\n",
    "x = sp.Symbol('x')\n",
    "sp.diff(sp.cbrt(x**4 - 5))"
   ]
  },
  {
   "cell_type": "code",
   "execution_count": 124,
   "id": "45ea1115-d9e7-4c25-a99a-2fbd3d54490e",
   "metadata": {},
   "outputs": [
    {
     "data": {
      "text/latex": [
       "$\\displaystyle - \\frac{2 x^{6}}{\\left(x^{4} - 1\\right)^{\\frac{3}{2}}} + \\frac{3 x^{2}}{\\sqrt{x^{4} - 1}}$"
      ],
      "text/plain": [
       "-2*x**6/(x**4 - 1)**(3/2) + 3*x**2/sqrt(x**4 - 1)"
      ]
     },
     "execution_count": 124,
     "metadata": {},
     "output_type": "execute_result"
    }
   ],
   "source": [
    "#Oppgave 2F\n",
    "x = sp.Symbol('x')\n",
    "sp.diff(x**3/(sp.sqrt(x**4 - 1)))"
   ]
  },
  {
   "cell_type": "code",
   "execution_count": 134,
   "id": "40df1692-173a-47b1-8394-955491f61ca4",
   "metadata": {},
   "outputs": [],
   "source": [
    "#Modul 22\n",
    "#Oppgave 1A\n",
    "x, y = sp.symbols('x y')\n",
    "ln = sp.ln\n",
    "e = sp.exp"
   ]
  },
  {
   "cell_type": "code",
   "execution_count": 136,
   "id": "d9e05900-993c-483d-a007-391d2d334577",
   "metadata": {},
   "outputs": [
    {
     "data": {
      "text/latex": [
       "$\\displaystyle \\frac{1}{x}$"
      ],
      "text/plain": [
       "1/x"
      ]
     },
     "execution_count": 136,
     "metadata": {},
     "output_type": "execute_result"
    }
   ],
   "source": [
    "#Oppgave 1A\n",
    "sp.diff(ln(5*x))"
   ]
  },
  {
   "cell_type": "code",
   "execution_count": 141,
   "id": "3b228841-71cd-4933-b625-817c2db905ca",
   "metadata": {},
   "outputs": [
    {
     "data": {
      "text/latex": [
       "$\\displaystyle - 2 e^{- 2 x}$"
      ],
      "text/plain": [
       "-2*exp(-2*x)"
      ]
     },
     "execution_count": 141,
     "metadata": {},
     "output_type": "execute_result"
    }
   ],
   "source": [
    "#Oppgave 1B\n",
    "sp.diff((e(-2*x)))"
   ]
  },
  {
   "cell_type": "code",
   "execution_count": 148,
   "id": "15c825d1-e79e-4720-8846-4dda80078335",
   "metadata": {},
   "outputs": [
    {
     "data": {
      "text/latex": [
       "$\\displaystyle \\frac{1}{x}$"
      ],
      "text/plain": [
       "1/x"
      ]
     },
     "execution_count": 148,
     "metadata": {},
     "output_type": "execute_result"
    }
   ],
   "source": [
    "#Oppgave 1C\n",
    "sp.diff(ln((12*x))-3)"
   ]
  },
  {
   "cell_type": "code",
   "execution_count": 146,
   "id": "36fc1ca3-7e9a-4101-8630-80c8db419381",
   "metadata": {},
   "outputs": [
    {
     "data": {
      "text/latex": [
       "$\\displaystyle 2^{x} \\log{\\left(2 \\right)}$"
      ],
      "text/plain": [
       "2**x*log(2)"
      ]
     },
     "execution_count": 146,
     "metadata": {},
     "output_type": "execute_result"
    }
   ],
   "source": [
    "#Oppgave 1D\n",
    "sp.diff(2**x)"
   ]
  },
  {
   "cell_type": "code",
   "execution_count": 149,
   "id": "62e10bd4-f6f6-4ff7-bc08-469332bf7a81",
   "metadata": {},
   "outputs": [
    {
     "data": {
      "text/latex": [
       "$\\displaystyle 3 e^{3 x + 5}$"
      ],
      "text/plain": [
       "3*exp(3*x + 5)"
      ]
     },
     "execution_count": 149,
     "metadata": {},
     "output_type": "execute_result"
    }
   ],
   "source": [
    "#Oppgave 1E\n",
    "sp.diff(e(3*x+5))"
   ]
  },
  {
   "cell_type": "code",
   "execution_count": 150,
   "id": "ae068963-4412-476b-af81-633380352b5f",
   "metadata": {},
   "outputs": [
    {
     "data": {
      "text/latex": [
       "$\\displaystyle \\frac{5 x^{4}}{x^{5} + 1}$"
      ],
      "text/plain": [
       "5*x**4/(x**5 + 1)"
      ]
     },
     "execution_count": 150,
     "metadata": {},
     "output_type": "execute_result"
    }
   ],
   "source": [
    "#Oppgave 1f\n",
    "sp.diff(ln(x**5 + 1))"
   ]
  },
  {
   "cell_type": "code",
   "execution_count": 151,
   "id": "38741e12-e322-40c6-ae49-8e884522e25f",
   "metadata": {},
   "outputs": [
    {
     "data": {
      "text/latex": [
       "$\\displaystyle \\left(8 x + 8\\right) e^{4 x^{2} + 8 x}$"
      ],
      "text/plain": [
       "(8*x + 8)*exp(4*x**2 + 8*x)"
      ]
     },
     "execution_count": 151,
     "metadata": {},
     "output_type": "execute_result"
    }
   ],
   "source": [
    "#Oppgave 1G\n",
    "sp.diff(e(4*x**2 + 8*x))"
   ]
  },
  {
   "cell_type": "code",
   "execution_count": 152,
   "id": "5fd78845-615d-4842-b21c-bf50a3d42658",
   "metadata": {},
   "outputs": [
    {
     "data": {
      "text/latex": [
       "$\\displaystyle - \\frac{1}{x}$"
      ],
      "text/plain": [
       "-1/x"
      ]
     },
     "execution_count": 152,
     "metadata": {},
     "output_type": "execute_result"
    }
   ],
   "source": [
    "#Oppgave 1H\n",
    "sp.diff(ln(1/x))"
   ]
  },
  {
   "cell_type": "code",
   "execution_count": 159,
   "id": "0961081b-4166-420c-88ff-73afa404f943",
   "metadata": {},
   "outputs": [
    {
     "data": {
      "text/latex": [
       "$\\displaystyle 12 e^{4 x} + \\frac{6}{x}$"
      ],
      "text/plain": [
       "12*exp(4*x) + 6/x"
      ]
     },
     "execution_count": 159,
     "metadata": {},
     "output_type": "execute_result"
    }
   ],
   "source": [
    "#Oppgave 1 I\n",
    "sp.diff(6*ln(x) + 3*e(4*x))"
   ]
  },
  {
   "cell_type": "code",
   "execution_count": 161,
   "id": "a384d2be-6b67-4f27-90e3-8a812b374e7c",
   "metadata": {},
   "outputs": [
    {
     "data": {
      "text/latex": [
       "$\\displaystyle - x e^{- x} + e^{- x}$"
      ],
      "text/plain": [
       "-x*exp(-x) + exp(-x)"
      ]
     },
     "execution_count": 161,
     "metadata": {},
     "output_type": "execute_result"
    }
   ],
   "source": [
    "#Oppgave 1J\n",
    "sp.diff(x * e(-x))"
   ]
  },
  {
   "cell_type": "code",
   "execution_count": 163,
   "id": "4f218a0a-e4fc-4887-822b-e5b2e2e7d6cb",
   "metadata": {},
   "outputs": [
    {
     "data": {
      "text/latex": [
       "$\\displaystyle \\frac{2 x^{3}}{x^{2} + 2} + 2 x \\log{\\left(x^{2} + 2 \\right)}$"
      ],
      "text/plain": [
       "2*x**3/(x**2 + 2) + 2*x*log(x**2 + 2)"
      ]
     },
     "execution_count": 163,
     "metadata": {},
     "output_type": "execute_result"
    }
   ],
   "source": [
    "#Oppgave 1K\n",
    "sp.diff(x**2*ln(x**2 + 2))"
   ]
  },
  {
   "cell_type": "code",
   "execution_count": 165,
   "id": "44e3faf6-3c87-4a00-977a-fa8c8fd5a265",
   "metadata": {},
   "outputs": [
    {
     "data": {
      "text/latex": [
       "$\\displaystyle 2 x^{3} e^{2 x} + 3 x^{2} e^{2 x}$"
      ],
      "text/plain": [
       "2*x**3*exp(2*x) + 3*x**2*exp(2*x)"
      ]
     },
     "execution_count": 165,
     "metadata": {},
     "output_type": "execute_result"
    }
   ],
   "source": [
    "#Oppgave 2A\n",
    "sp.diff(x**3 * e(2*x))"
   ]
  },
  {
   "cell_type": "code",
   "execution_count": 168,
   "id": "1aba6f94-90dc-4450-b56d-70b86a578c78",
   "metadata": {},
   "outputs": [
    {
     "data": {
      "text/latex": [
       "$\\displaystyle \\frac{\\left(x^{2} + 1\\right) \\left(- \\frac{2 x \\left(x^{2} - 1\\right)}{\\left(x^{2} + 1\\right)^{2}} + \\frac{2 x}{x^{2} + 1}\\right)}{x^{2} - 1}$"
      ],
      "text/plain": [
       "(x**2 + 1)*(-2*x*(x**2 - 1)/(x**2 + 1)**2 + 2*x/(x**2 + 1))/(x**2 - 1)"
      ]
     },
     "execution_count": 168,
     "metadata": {},
     "output_type": "execute_result"
    }
   ],
   "source": [
    "#Oppgave 2B\n",
    "sp.diff(ln((x**2 - 1)/(x**2 + 1)))"
   ]
  },
  {
   "cell_type": "code",
   "execution_count": 169,
   "id": "ce2fefb4-8791-45fc-baa0-c535bf942163",
   "metadata": {},
   "outputs": [
    {
     "data": {
      "text/latex": [
       "$\\displaystyle \\frac{2 x^{3}}{x^{2} + 2} + 2 x \\log{\\left(x^{2} + 2 \\right)}$"
      ],
      "text/plain": [
       "2*x**3/(x**2 + 2) + 2*x*log(x**2 + 2)"
      ]
     },
     "execution_count": 169,
     "metadata": {},
     "output_type": "execute_result"
    }
   ],
   "source": [
    "#Oppgave 2C\n",
    "sp.diff(x**2 * ln((x**2 + 2)))"
   ]
  },
  {
   "cell_type": "code",
   "execution_count": 171,
   "id": "526db7c9-d461-481d-bd8e-1c658b3763bd",
   "metadata": {},
   "outputs": [
    {
     "data": {
      "text/latex": [
       "$\\displaystyle - \\frac{2 x e^{- x}}{\\left(x^{2} + 1\\right)^{2}} - \\frac{e^{- x}}{x^{2} + 1}$"
      ],
      "text/plain": [
       "-2*x*exp(-x)/(x**2 + 1)**2 - exp(-x)/(x**2 + 1)"
      ]
     },
     "execution_count": 171,
     "metadata": {},
     "output_type": "execute_result"
    }
   ],
   "source": [
    "#Oppgave 2D\n",
    "sp.diff(e(-x)/(x**2 + 1))"
   ]
  },
  {
   "cell_type": "code",
   "execution_count": null,
   "id": "bbbd153d-20bd-4b7a-8664-563dc96711de",
   "metadata": {},
   "outputs": [],
   "source": []
  }
 ],
 "metadata": {
  "kernelspec": {
   "display_name": "Python 3 (ipykernel)",
   "language": "python",
   "name": "python3"
  },
  "language_info": {
   "codemirror_mode": {
    "name": "ipython",
    "version": 3
   },
   "file_extension": ".py",
   "mimetype": "text/x-python",
   "name": "python",
   "nbconvert_exporter": "python",
   "pygments_lexer": "ipython3",
   "version": "3.9.5"
  }
 },
 "nbformat": 4,
 "nbformat_minor": 5
}
